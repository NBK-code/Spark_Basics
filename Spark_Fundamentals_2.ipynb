{
  "nbformat": 4,
  "nbformat_minor": 0,
  "metadata": {
    "colab": {
      "name": "Spark_Fundamentals_2.ipynb",
      "provenance": [],
      "collapsed_sections": [],
      "authorship_tag": "ABX9TyPy0SYqaaOhBUHEbNRpJfx4",
      "include_colab_link": true
    },
    "kernelspec": {
      "name": "python3",
      "display_name": "Python 3"
    },
    "language_info": {
      "name": "python"
    }
  },
  "cells": [
    {
      "cell_type": "markdown",
      "metadata": {
        "id": "view-in-github",
        "colab_type": "text"
      },
      "source": [
        "<a href=\"https://colab.research.google.com/github/NBK-code/Spark_Basics/blob/main/Spark_Fundamentals_2.ipynb\" target=\"_parent\"><img src=\"https://colab.research.google.com/assets/colab-badge.svg\" alt=\"Open In Colab\"/></a>"
      ]
    },
    {
      "cell_type": "code",
      "execution_count": null,
      "metadata": {
        "colab": {
          "base_uri": "https://localhost:8080/"
        },
        "id": "nB_pfhohkII4",
        "outputId": "2c6e6343-9cf6-4187-9021-f12a9b226064"
      },
      "outputs": [
        {
          "output_type": "stream",
          "name": "stdout",
          "text": [
            "Collecting pyspark\n",
            "  Downloading pyspark-3.2.1.tar.gz (281.4 MB)\n",
            "\u001b[K     |████████████████████████████████| 281.4 MB 29 kB/s \n",
            "\u001b[?25hCollecting py4j==0.10.9.3\n",
            "  Downloading py4j-0.10.9.3-py2.py3-none-any.whl (198 kB)\n",
            "\u001b[K     |████████████████████████████████| 198 kB 50.5 MB/s \n",
            "\u001b[?25hBuilding wheels for collected packages: pyspark\n",
            "  Building wheel for pyspark (setup.py) ... \u001b[?25l\u001b[?25hdone\n",
            "  Created wheel for pyspark: filename=pyspark-3.2.1-py2.py3-none-any.whl size=281853642 sha256=cc76a71e7f998a18c5170ffd631f5e59d68e5f84ac805fbb89fc8a993ca2a0b8\n",
            "  Stored in directory: /root/.cache/pip/wheels/9f/f5/07/7cd8017084dce4e93e84e92efd1e1d5334db05f2e83bcef74f\n",
            "Successfully built pyspark\n",
            "Installing collected packages: py4j, pyspark\n",
            "Successfully installed py4j-0.10.9.3 pyspark-3.2.1\n"
          ]
        }
      ],
      "source": [
        "!pip install pyspark"
      ]
    },
    {
      "cell_type": "code",
      "source": [
        "import pyspark"
      ],
      "metadata": {
        "id": "J8Gp5QhxpCgL"
      },
      "execution_count": null,
      "outputs": []
    },
    {
      "cell_type": "code",
      "source": [
        "from google.colab import drive\n",
        "drive.mount('gdrive')"
      ],
      "metadata": {
        "colab": {
          "base_uri": "https://localhost:8080/"
        },
        "id": "LU5onub4pUsT",
        "outputId": "54c5999b-1449-4c45-82dd-a7ad2743d95c"
      },
      "execution_count": null,
      "outputs": [
        {
          "output_type": "stream",
          "name": "stdout",
          "text": [
            "Mounted at gdrive\n"
          ]
        }
      ]
    },
    {
      "cell_type": "code",
      "source": [
        "! ls gdrive/MyDrive/Colab_Notebooks/Spark"
      ],
      "metadata": {
        "colab": {
          "base_uri": "https://localhost:8080/"
        },
        "id": "a4K-uPO8q8-F",
        "outputId": "d8131c0b-488b-4754-cdb7-0c84f26ff55c"
      },
      "execution_count": null,
      "outputs": [
        {
          "output_type": "stream",
          "name": "stdout",
          "text": [
            "Book_Sample_1.csv  Book_Sample_1.xlsx  Spark_Fundamentals.ipynb\n"
          ]
        }
      ]
    },
    {
      "cell_type": "code",
      "source": [
        "import pandas as pd"
      ],
      "metadata": {
        "id": "f4c63ryhrVWw"
      },
      "execution_count": null,
      "outputs": []
    },
    {
      "cell_type": "code",
      "source": [
        "pd.read_csv('gdrive/MyDrive/Colab_Notebooks/Spark/Book_Sample_1.csv')"
      ],
      "metadata": {
        "colab": {
          "base_uri": "https://localhost:8080/",
          "height": 143
        },
        "id": "M869vbSnspNK",
        "outputId": "a854481f-20c2-45ba-cf16-523cf0d3b7b1"
      },
      "execution_count": null,
      "outputs": [
        {
          "output_type": "execute_result",
          "data": {
            "text/html": [
              "\n",
              "  <div id=\"df-a313861f-bdd0-45fc-b8b1-5cfd76273372\">\n",
              "    <div class=\"colab-df-container\">\n",
              "      <div>\n",
              "<style scoped>\n",
              "    .dataframe tbody tr th:only-of-type {\n",
              "        vertical-align: middle;\n",
              "    }\n",
              "\n",
              "    .dataframe tbody tr th {\n",
              "        vertical-align: top;\n",
              "    }\n",
              "\n",
              "    .dataframe thead th {\n",
              "        text-align: right;\n",
              "    }\n",
              "</style>\n",
              "<table border=\"1\" class=\"dataframe\">\n",
              "  <thead>\n",
              "    <tr style=\"text-align: right;\">\n",
              "      <th></th>\n",
              "      <th>Name</th>\n",
              "      <th>roll_no</th>\n",
              "    </tr>\n",
              "  </thead>\n",
              "  <tbody>\n",
              "    <tr>\n",
              "      <th>0</th>\n",
              "      <td>Bala</td>\n",
              "      <td>6</td>\n",
              "    </tr>\n",
              "    <tr>\n",
              "      <th>1</th>\n",
              "      <td>Adi</td>\n",
              "      <td>2</td>\n",
              "    </tr>\n",
              "    <tr>\n",
              "      <th>2</th>\n",
              "      <td>Satish</td>\n",
              "      <td>5</td>\n",
              "    </tr>\n",
              "  </tbody>\n",
              "</table>\n",
              "</div>\n",
              "      <button class=\"colab-df-convert\" onclick=\"convertToInteractive('df-a313861f-bdd0-45fc-b8b1-5cfd76273372')\"\n",
              "              title=\"Convert this dataframe to an interactive table.\"\n",
              "              style=\"display:none;\">\n",
              "        \n",
              "  <svg xmlns=\"http://www.w3.org/2000/svg\" height=\"24px\"viewBox=\"0 0 24 24\"\n",
              "       width=\"24px\">\n",
              "    <path d=\"M0 0h24v24H0V0z\" fill=\"none\"/>\n",
              "    <path d=\"M18.56 5.44l.94 2.06.94-2.06 2.06-.94-2.06-.94-.94-2.06-.94 2.06-2.06.94zm-11 1L8.5 8.5l.94-2.06 2.06-.94-2.06-.94L8.5 2.5l-.94 2.06-2.06.94zm10 10l.94 2.06.94-2.06 2.06-.94-2.06-.94-.94-2.06-.94 2.06-2.06.94z\"/><path d=\"M17.41 7.96l-1.37-1.37c-.4-.4-.92-.59-1.43-.59-.52 0-1.04.2-1.43.59L10.3 9.45l-7.72 7.72c-.78.78-.78 2.05 0 2.83L4 21.41c.39.39.9.59 1.41.59.51 0 1.02-.2 1.41-.59l7.78-7.78 2.81-2.81c.8-.78.8-2.07 0-2.86zM5.41 20L4 18.59l7.72-7.72 1.47 1.35L5.41 20z\"/>\n",
              "  </svg>\n",
              "      </button>\n",
              "      \n",
              "  <style>\n",
              "    .colab-df-container {\n",
              "      display:flex;\n",
              "      flex-wrap:wrap;\n",
              "      gap: 12px;\n",
              "    }\n",
              "\n",
              "    .colab-df-convert {\n",
              "      background-color: #E8F0FE;\n",
              "      border: none;\n",
              "      border-radius: 50%;\n",
              "      cursor: pointer;\n",
              "      display: none;\n",
              "      fill: #1967D2;\n",
              "      height: 32px;\n",
              "      padding: 0 0 0 0;\n",
              "      width: 32px;\n",
              "    }\n",
              "\n",
              "    .colab-df-convert:hover {\n",
              "      background-color: #E2EBFA;\n",
              "      box-shadow: 0px 1px 2px rgba(60, 64, 67, 0.3), 0px 1px 3px 1px rgba(60, 64, 67, 0.15);\n",
              "      fill: #174EA6;\n",
              "    }\n",
              "\n",
              "    [theme=dark] .colab-df-convert {\n",
              "      background-color: #3B4455;\n",
              "      fill: #D2E3FC;\n",
              "    }\n",
              "\n",
              "    [theme=dark] .colab-df-convert:hover {\n",
              "      background-color: #434B5C;\n",
              "      box-shadow: 0px 1px 3px 1px rgba(0, 0, 0, 0.15);\n",
              "      filter: drop-shadow(0px 1px 2px rgba(0, 0, 0, 0.3));\n",
              "      fill: #FFFFFF;\n",
              "    }\n",
              "  </style>\n",
              "\n",
              "      <script>\n",
              "        const buttonEl =\n",
              "          document.querySelector('#df-a313861f-bdd0-45fc-b8b1-5cfd76273372 button.colab-df-convert');\n",
              "        buttonEl.style.display =\n",
              "          google.colab.kernel.accessAllowed ? 'block' : 'none';\n",
              "\n",
              "        async function convertToInteractive(key) {\n",
              "          const element = document.querySelector('#df-a313861f-bdd0-45fc-b8b1-5cfd76273372');\n",
              "          const dataTable =\n",
              "            await google.colab.kernel.invokeFunction('convertToInteractive',\n",
              "                                                     [key], {});\n",
              "          if (!dataTable) return;\n",
              "\n",
              "          const docLinkHtml = 'Like what you see? Visit the ' +\n",
              "            '<a target=\"_blank\" href=https://colab.research.google.com/notebooks/data_table.ipynb>data table notebook</a>'\n",
              "            + ' to learn more about interactive tables.';\n",
              "          element.innerHTML = '';\n",
              "          dataTable['output_type'] = 'display_data';\n",
              "          await google.colab.output.renderOutput(dataTable, element);\n",
              "          const docLink = document.createElement('div');\n",
              "          docLink.innerHTML = docLinkHtml;\n",
              "          element.appendChild(docLink);\n",
              "        }\n",
              "      </script>\n",
              "    </div>\n",
              "  </div>\n",
              "  "
            ],
            "text/plain": [
              "     Name  roll_no\n",
              "0    Bala        6\n",
              "1     Adi        2\n",
              "2  Satish        5"
            ]
          },
          "metadata": {},
          "execution_count": 6
        }
      ]
    },
    {
      "cell_type": "code",
      "source": [
        "from pyspark.sql import SparkSession"
      ],
      "metadata": {
        "id": "53WKHvxgszJu"
      },
      "execution_count": null,
      "outputs": []
    },
    {
      "cell_type": "code",
      "source": [
        "spark = SparkSession.builder.appName('Session_1').getOrCreate()"
      ],
      "metadata": {
        "id": "eM1SiTDktI65"
      },
      "execution_count": null,
      "outputs": []
    },
    {
      "cell_type": "code",
      "source": [
        "spark"
      ],
      "metadata": {
        "colab": {
          "base_uri": "https://localhost:8080/",
          "height": 219
        },
        "id": "UsUNP8yVtcFr",
        "outputId": "c72cc9b0-c23c-4496-9595-6bf084107325"
      },
      "execution_count": null,
      "outputs": [
        {
          "output_type": "execute_result",
          "data": {
            "text/html": [
              "\n",
              "            <div>\n",
              "                <p><b>SparkSession - in-memory</b></p>\n",
              "                \n",
              "        <div>\n",
              "            <p><b>SparkContext</b></p>\n",
              "\n",
              "            <p><a href=\"http://2918ce92a102:4040\">Spark UI</a></p>\n",
              "\n",
              "            <dl>\n",
              "              <dt>Version</dt>\n",
              "                <dd><code>v3.2.1</code></dd>\n",
              "              <dt>Master</dt>\n",
              "                <dd><code>local[*]</code></dd>\n",
              "              <dt>AppName</dt>\n",
              "                <dd><code>Session_1</code></dd>\n",
              "            </dl>\n",
              "        </div>\n",
              "        \n",
              "            </div>\n",
              "        "
            ],
            "text/plain": [
              "<pyspark.sql.session.SparkSession at 0x7fd4f94db310>"
            ]
          },
          "metadata": {},
          "execution_count": 9
        }
      ]
    },
    {
      "cell_type": "code",
      "source": [
        "df_pyspark = spark.read.csv('gdrive/MyDrive/Colab_Notebooks/Spark/Book_Sample_1.csv')"
      ],
      "metadata": {
        "id": "tL6tUJVetgfl"
      },
      "execution_count": null,
      "outputs": []
    },
    {
      "cell_type": "code",
      "source": [
        "df_pyspark.show()"
      ],
      "metadata": {
        "colab": {
          "base_uri": "https://localhost:8080/"
        },
        "id": "TP-XFIgwt9ok",
        "outputId": "a542c7bd-34c5-4769-d1b8-889d8753a84a"
      },
      "execution_count": null,
      "outputs": [
        {
          "output_type": "stream",
          "name": "stdout",
          "text": [
            "+------+-------+\n",
            "|   _c0|    _c1|\n",
            "+------+-------+\n",
            "|  Name|roll_no|\n",
            "|  Bala|      6|\n",
            "|   Adi|      2|\n",
            "|Satish|      5|\n",
            "+------+-------+\n",
            "\n"
          ]
        }
      ]
    },
    {
      "cell_type": "code",
      "source": [
        "df_pyspark = spark.read.option('header','true').csv('gdrive/MyDrive/Colab_Notebooks/Spark/Book_Sample_1.csv', inferSchema = True)"
      ],
      "metadata": {
        "id": "rUPh2R-nuDOT"
      },
      "execution_count": null,
      "outputs": []
    },
    {
      "cell_type": "code",
      "source": [
        "df_pyspark.show()"
      ],
      "metadata": {
        "colab": {
          "base_uri": "https://localhost:8080/"
        },
        "id": "9Ji-p5F3ur92",
        "outputId": "5042e2d9-2b92-4453-a25d-f82aefd039ca"
      },
      "execution_count": null,
      "outputs": [
        {
          "output_type": "stream",
          "name": "stdout",
          "text": [
            "+------+-------+\n",
            "|  Name|roll_no|\n",
            "+------+-------+\n",
            "|  Bala|      6|\n",
            "|   Adi|      2|\n",
            "|Satish|      5|\n",
            "+------+-------+\n",
            "\n"
          ]
        }
      ]
    },
    {
      "cell_type": "code",
      "source": [
        "type(df_pyspark)"
      ],
      "metadata": {
        "colab": {
          "base_uri": "https://localhost:8080/"
        },
        "id": "Z3CS071luvPi",
        "outputId": "cae5c263-8ac3-4df5-9de0-9e4f87133ca9"
      },
      "execution_count": null,
      "outputs": [
        {
          "output_type": "execute_result",
          "data": {
            "text/plain": [
              "pyspark.sql.dataframe.DataFrame"
            ]
          },
          "metadata": {},
          "execution_count": 14
        }
      ]
    },
    {
      "cell_type": "code",
      "source": [
        "df_pyspark.printSchema()"
      ],
      "metadata": {
        "colab": {
          "base_uri": "https://localhost:8080/"
        },
        "id": "k3u9oLo7u7Gf",
        "outputId": "b95af49a-9a40-478d-eb65-b7d912ddf7e7"
      },
      "execution_count": null,
      "outputs": [
        {
          "output_type": "stream",
          "name": "stdout",
          "text": [
            "root\n",
            " |-- Name: string (nullable = true)\n",
            " |-- roll_no: integer (nullable = true)\n",
            "\n"
          ]
        }
      ]
    },
    {
      "cell_type": "code",
      "source": [
        "df_pyspark = spark.read.csv('gdrive/MyDrive/Colab_Notebooks/Spark/Book_Sample_1.csv', header = True, inferSchema = True)"
      ],
      "metadata": {
        "id": "Ta1DNCpMvJSA"
      },
      "execution_count": null,
      "outputs": []
    },
    {
      "cell_type": "code",
      "source": [
        "df_pyspark.show()"
      ],
      "metadata": {
        "colab": {
          "base_uri": "https://localhost:8080/"
        },
        "id": "e0yzYKByxhsb",
        "outputId": "1c90633c-8ff7-4b26-c705-a1b90a676742"
      },
      "execution_count": null,
      "outputs": [
        {
          "output_type": "stream",
          "name": "stdout",
          "text": [
            "+------+-------+\n",
            "|  Name|roll_no|\n",
            "+------+-------+\n",
            "|  Bala|      6|\n",
            "|   Adi|      2|\n",
            "|Satish|      5|\n",
            "+------+-------+\n",
            "\n"
          ]
        }
      ]
    },
    {
      "cell_type": "code",
      "source": [
        "df_pyspark.printSchema()"
      ],
      "metadata": {
        "colab": {
          "base_uri": "https://localhost:8080/"
        },
        "id": "qTfLu20TxkXE",
        "outputId": "5194973a-a197-40df-fbbd-090b2feab3ac"
      },
      "execution_count": null,
      "outputs": [
        {
          "output_type": "stream",
          "name": "stdout",
          "text": [
            "root\n",
            " |-- Name: string (nullable = true)\n",
            " |-- roll_no: integer (nullable = true)\n",
            "\n"
          ]
        }
      ]
    },
    {
      "cell_type": "code",
      "source": [
        "df_pyspark.columns"
      ],
      "metadata": {
        "colab": {
          "base_uri": "https://localhost:8080/"
        },
        "id": "i28SWvquxozN",
        "outputId": "6c6414ce-aadf-4fc1-e721-b5a02076bc10"
      },
      "execution_count": null,
      "outputs": [
        {
          "output_type": "execute_result",
          "data": {
            "text/plain": [
              "['Name', 'roll_no']"
            ]
          },
          "metadata": {},
          "execution_count": 19
        }
      ]
    },
    {
      "cell_type": "code",
      "source": [
        "df_pyspark.head(3)"
      ],
      "metadata": {
        "colab": {
          "base_uri": "https://localhost:8080/"
        },
        "id": "CCTX9jj5x-L1",
        "outputId": "5b59efc6-9195-4c2f-ea4b-d429076d55be"
      },
      "execution_count": null,
      "outputs": [
        {
          "output_type": "execute_result",
          "data": {
            "text/plain": [
              "[Row(Name='Bala', roll_no=6),\n",
              " Row(Name='Adi', roll_no=2),\n",
              " Row(Name='Satish', roll_no=5)]"
            ]
          },
          "metadata": {},
          "execution_count": 20
        }
      ]
    },
    {
      "cell_type": "code",
      "source": [
        "df_pyspark.select('Name')"
      ],
      "metadata": {
        "colab": {
          "base_uri": "https://localhost:8080/"
        },
        "id": "uTo404lOyHBd",
        "outputId": "9ccf8f58-d248-483c-87f6-a52875016c7f"
      },
      "execution_count": null,
      "outputs": [
        {
          "output_type": "execute_result",
          "data": {
            "text/plain": [
              "DataFrame[Name: string]"
            ]
          },
          "metadata": {},
          "execution_count": 21
        }
      ]
    },
    {
      "cell_type": "code",
      "source": [
        "df_pyspark.select('Name').show()"
      ],
      "metadata": {
        "colab": {
          "base_uri": "https://localhost:8080/"
        },
        "id": "JDk267KJyoGK",
        "outputId": "abf25b05-383e-48fe-939a-131b8bd38bad"
      },
      "execution_count": null,
      "outputs": [
        {
          "output_type": "stream",
          "name": "stdout",
          "text": [
            "+------+\n",
            "|  Name|\n",
            "+------+\n",
            "|  Bala|\n",
            "|   Adi|\n",
            "|Satish|\n",
            "+------+\n",
            "\n"
          ]
        }
      ]
    },
    {
      "cell_type": "code",
      "source": [
        "df_pyspark.select(['Name','roll_no']).show()"
      ],
      "metadata": {
        "colab": {
          "base_uri": "https://localhost:8080/"
        },
        "id": "xdrHtk9vyqvd",
        "outputId": "8a0dfc5f-3f63-4d2f-e782-0fb3d021f13c"
      },
      "execution_count": null,
      "outputs": [
        {
          "output_type": "stream",
          "name": "stdout",
          "text": [
            "+------+-------+\n",
            "|  Name|roll_no|\n",
            "+------+-------+\n",
            "|  Bala|      6|\n",
            "|   Adi|      2|\n",
            "|Satish|      5|\n",
            "+------+-------+\n",
            "\n"
          ]
        }
      ]
    },
    {
      "cell_type": "code",
      "source": [
        "df_pyspark.dtypes"
      ],
      "metadata": {
        "colab": {
          "base_uri": "https://localhost:8080/"
        },
        "id": "YLvZhfhgywwi",
        "outputId": "12a97ceb-78ef-49c0-a0b5-44ae9df447b7"
      },
      "execution_count": null,
      "outputs": [
        {
          "output_type": "execute_result",
          "data": {
            "text/plain": [
              "[('Name', 'string'), ('roll_no', 'int')]"
            ]
          },
          "metadata": {},
          "execution_count": 24
        }
      ]
    },
    {
      "cell_type": "code",
      "source": [
        "df_pyspark.describe().show()"
      ],
      "metadata": {
        "colab": {
          "base_uri": "https://localhost:8080/"
        },
        "id": "5zussFqkzNO9",
        "outputId": "a2ff4a58-18b4-4536-8f5c-82843340ad3a"
      },
      "execution_count": null,
      "outputs": [
        {
          "output_type": "stream",
          "name": "stdout",
          "text": [
            "+-------+------+------------------+\n",
            "|summary|  Name|           roll_no|\n",
            "+-------+------+------------------+\n",
            "|  count|     3|                 3|\n",
            "|   mean|  null| 4.333333333333333|\n",
            "| stddev|  null|2.0816659994661326|\n",
            "|    min|   Adi|                 2|\n",
            "|    max|Satish|                 6|\n",
            "+-------+------+------------------+\n",
            "\n"
          ]
        }
      ]
    },
    {
      "cell_type": "code",
      "source": [
        "df_pyspark = df_pyspark.withColumn(\"roll_no + 2\", df_pyspark['roll_no']+2)"
      ],
      "metadata": {
        "id": "IIkFmlfs0kJB"
      },
      "execution_count": null,
      "outputs": []
    },
    {
      "cell_type": "code",
      "source": [
        "df_pyspark.show()"
      ],
      "metadata": {
        "colab": {
          "base_uri": "https://localhost:8080/"
        },
        "id": "mQzSSiWj1yCw",
        "outputId": "15e75319-4ae9-439d-d9de-b48915d95398"
      },
      "execution_count": null,
      "outputs": [
        {
          "output_type": "stream",
          "name": "stdout",
          "text": [
            "+------+-------+-----------+\n",
            "|  Name|roll_no|roll_no + 2|\n",
            "+------+-------+-----------+\n",
            "|  Bala|      6|          8|\n",
            "|   Adi|      2|          4|\n",
            "|Satish|      5|          7|\n",
            "+------+-------+-----------+\n",
            "\n"
          ]
        }
      ]
    },
    {
      "cell_type": "code",
      "source": [
        "df_pyspark = df_pyspark.drop('roll_no + 2')"
      ],
      "metadata": {
        "id": "FkFHuW-Q2Ha8"
      },
      "execution_count": null,
      "outputs": []
    },
    {
      "cell_type": "code",
      "source": [
        "df_pyspark.show()"
      ],
      "metadata": {
        "colab": {
          "base_uri": "https://localhost:8080/"
        },
        "id": "o1F7GgVj2aAS",
        "outputId": "19427483-1856-4e0e-e2fb-13b0397d4276"
      },
      "execution_count": null,
      "outputs": [
        {
          "output_type": "stream",
          "name": "stdout",
          "text": [
            "+------+-------+\n",
            "|  Name|roll_no|\n",
            "+------+-------+\n",
            "|  Bala|      6|\n",
            "|   Adi|      2|\n",
            "|Satish|      5|\n",
            "+------+-------+\n",
            "\n"
          ]
        }
      ]
    },
    {
      "cell_type": "code",
      "source": [
        "df_pyspark = df_pyspark.withColumnRenamed('roll_no', 'Roll_No_New')"
      ],
      "metadata": {
        "id": "avjYkUwY2cF0"
      },
      "execution_count": null,
      "outputs": []
    },
    {
      "cell_type": "code",
      "source": [
        "df_pyspark.show()"
      ],
      "metadata": {
        "colab": {
          "base_uri": "https://localhost:8080/"
        },
        "id": "mR1lY4kh3WQQ",
        "outputId": "b30db828-f170-421f-fded-97801b25b2cf"
      },
      "execution_count": null,
      "outputs": [
        {
          "output_type": "stream",
          "name": "stdout",
          "text": [
            "+------+-----------+\n",
            "|  Name|Roll_No_New|\n",
            "+------+-----------+\n",
            "|  Bala|          6|\n",
            "|   Adi|          2|\n",
            "|Satish|          5|\n",
            "+------+-----------+\n",
            "\n"
          ]
        }
      ]
    },
    {
      "cell_type": "code",
      "source": [
        "df_pyspark1 = spark.read.csv('gdrive/MyDrive/Colab_Notebooks/Spark/Book_Sample_2.csv', header = True, inferSchema = True)"
      ],
      "metadata": {
        "id": "dDblbxGV3YC3"
      },
      "execution_count": null,
      "outputs": []
    },
    {
      "cell_type": "code",
      "source": [
        "df_pyspark1.show()"
      ],
      "metadata": {
        "colab": {
          "base_uri": "https://localhost:8080/"
        },
        "id": "psK2SU4V12Of",
        "outputId": "bc0f9994-1cc2-4f95-e82b-c2f5c97d3f97"
      },
      "execution_count": null,
      "outputs": [
        {
          "output_type": "stream",
          "name": "stdout",
          "text": [
            "+----+----+----------+------+\n",
            "|Name| Age|Experience|Salary|\n",
            "+----+----+----------+------+\n",
            "|   A|  22|         1|  1000|\n",
            "|   B|  23|         3|  1200|\n",
            "|   C|  24|         2|  1300|\n",
            "|   D|  25|         1|  1100|\n",
            "|   E|null|      null|  1200|\n",
            "|null|  30|         4|  1300|\n",
            "|null|  31|      null|  1200|\n",
            "|null|  33|      null|  null|\n",
            "+----+----+----------+------+\n",
            "\n"
          ]
        }
      ]
    },
    {
      "cell_type": "code",
      "source": [
        "df_pyspark1.na.drop().show()"
      ],
      "metadata": {
        "colab": {
          "base_uri": "https://localhost:8080/"
        },
        "id": "bOOaO3HX14r6",
        "outputId": "6f3a5f4a-6ec4-4548-dc16-2872871872e9"
      },
      "execution_count": null,
      "outputs": [
        {
          "output_type": "stream",
          "name": "stdout",
          "text": [
            "+----+---+----------+------+\n",
            "|Name|Age|Experience|Salary|\n",
            "+----+---+----------+------+\n",
            "|   A| 22|         1|  1000|\n",
            "|   B| 23|         3|  1200|\n",
            "|   C| 24|         2|  1300|\n",
            "|   D| 25|         1|  1100|\n",
            "+----+---+----------+------+\n",
            "\n"
          ]
        }
      ]
    },
    {
      "cell_type": "code",
      "source": [
        "df_pyspark1.na.drop(how = 'all').show()"
      ],
      "metadata": {
        "colab": {
          "base_uri": "https://localhost:8080/"
        },
        "id": "L-ITH4tF3ZJF",
        "outputId": "27400545-3745-4cef-ae6a-9ecb379a1f2e"
      },
      "execution_count": null,
      "outputs": [
        {
          "output_type": "stream",
          "name": "stdout",
          "text": [
            "+----+----+----------+------+\n",
            "|Name| Age|Experience|Salary|\n",
            "+----+----+----------+------+\n",
            "|   A|  22|         1|  1000|\n",
            "|   B|  23|         3|  1200|\n",
            "|   C|  24|         2|  1300|\n",
            "|   D|  25|         1|  1100|\n",
            "|   E|null|      null|  1200|\n",
            "|null|  30|         4|  1300|\n",
            "|null|  31|      null|  1200|\n",
            "|null|  33|      null|  null|\n",
            "+----+----+----------+------+\n",
            "\n"
          ]
        }
      ]
    },
    {
      "cell_type": "code",
      "source": [
        "df_pyspark1.na.drop(how = 'any').show()"
      ],
      "metadata": {
        "colab": {
          "base_uri": "https://localhost:8080/"
        },
        "id": "ddl7GL0v4RbC",
        "outputId": "464ca927-0c71-45c6-a4db-e618c70199e2"
      },
      "execution_count": null,
      "outputs": [
        {
          "output_type": "stream",
          "name": "stdout",
          "text": [
            "+----+---+----------+------+\n",
            "|Name|Age|Experience|Salary|\n",
            "+----+---+----------+------+\n",
            "|   A| 22|         1|  1000|\n",
            "|   B| 23|         3|  1200|\n",
            "|   C| 24|         2|  1300|\n",
            "|   D| 25|         1|  1100|\n",
            "+----+---+----------+------+\n",
            "\n"
          ]
        }
      ]
    },
    {
      "cell_type": "code",
      "source": [
        "df_pyspark1.na.drop(how = 'any', thresh = 2).show()"
      ],
      "metadata": {
        "colab": {
          "base_uri": "https://localhost:8080/"
        },
        "id": "SckiYGCr4gKu",
        "outputId": "ae6e8608-7981-4364-9089-6dcc61fd30d3"
      },
      "execution_count": null,
      "outputs": [
        {
          "output_type": "stream",
          "name": "stdout",
          "text": [
            "+----+----+----------+------+\n",
            "|Name| Age|Experience|Salary|\n",
            "+----+----+----------+------+\n",
            "|   A|  22|         1|  1000|\n",
            "|   B|  23|         3|  1200|\n",
            "|   C|  24|         2|  1300|\n",
            "|   D|  25|         1|  1100|\n",
            "|   E|null|      null|  1200|\n",
            "|null|  30|         4|  1300|\n",
            "|null|  31|      null|  1200|\n",
            "+----+----+----------+------+\n",
            "\n"
          ]
        }
      ]
    },
    {
      "cell_type": "code",
      "source": [
        "df_pyspark1.na.drop(how = 'any', subset = ['Name']).show()"
      ],
      "metadata": {
        "colab": {
          "base_uri": "https://localhost:8080/"
        },
        "id": "VDZ1e4bG5CG-",
        "outputId": "103cf6f4-c992-4bde-8d02-875cc534b6d1"
      },
      "execution_count": null,
      "outputs": [
        {
          "output_type": "stream",
          "name": "stdout",
          "text": [
            "+----+----+----------+------+\n",
            "|Name| Age|Experience|Salary|\n",
            "+----+----+----------+------+\n",
            "|   A|  22|         1|  1000|\n",
            "|   B|  23|         3|  1200|\n",
            "|   C|  24|         2|  1300|\n",
            "|   D|  25|         1|  1100|\n",
            "|   E|null|      null|  1200|\n",
            "+----+----+----------+------+\n",
            "\n"
          ]
        }
      ]
    },
    {
      "cell_type": "code",
      "source": [
        "df_pyspark1.na.fill('missing', 'Age').show()"
      ],
      "metadata": {
        "colab": {
          "base_uri": "https://localhost:8080/"
        },
        "id": "-6SDVc9X61B1",
        "outputId": "59206465-ffdb-4755-ca26-435c32e253fd"
      },
      "execution_count": null,
      "outputs": [
        {
          "output_type": "stream",
          "name": "stdout",
          "text": [
            "+----+----+----------+------+\n",
            "|Name| Age|Experience|Salary|\n",
            "+----+----+----------+------+\n",
            "|   A|  22|         1|  1000|\n",
            "|   B|  23|         3|  1200|\n",
            "|   C|  24|         2|  1300|\n",
            "|   D|  25|         1|  1100|\n",
            "|   E|null|      null|  1200|\n",
            "|null|  30|         4|  1300|\n",
            "|null|  31|      null|  1200|\n",
            "|null|  33|      null|  null|\n",
            "+----+----+----------+------+\n",
            "\n"
          ]
        }
      ]
    },
    {
      "cell_type": "code",
      "source": [
        "df_pyspark1.na.fill(value = \"missing\", subset = ['Name']).show()"
      ],
      "metadata": {
        "colab": {
          "base_uri": "https://localhost:8080/"
        },
        "id": "xneTpLdA7Svy",
        "outputId": "05f30d52-ec7f-4ed8-e27a-de72850a1fce"
      },
      "execution_count": null,
      "outputs": [
        {
          "output_type": "stream",
          "name": "stdout",
          "text": [
            "+-------+----+----------+------+\n",
            "|   Name| Age|Experience|Salary|\n",
            "+-------+----+----------+------+\n",
            "|      A|  22|         1|  1000|\n",
            "|      B|  23|         3|  1200|\n",
            "|      C|  24|         2|  1300|\n",
            "|      D|  25|         1|  1100|\n",
            "|      E|null|      null|  1200|\n",
            "|missing|  30|         4|  1300|\n",
            "|missing|  31|      null|  1200|\n",
            "|missing|  33|      null|  null|\n",
            "+-------+----+----------+------+\n",
            "\n"
          ]
        }
      ]
    },
    {
      "cell_type": "code",
      "source": [
        "from pyspark.ml.feature import Imputer\n",
        "\n",
        "imputer = Imputer( inputCols = ['Age', 'Experience', 'Salary'],\n",
        "                   outputCols = ['Age_imp', 'Experience_imp', 'Salary_imp']).setStrategy(\"mean\")"
      ],
      "metadata": {
        "id": "OvDJwbjK7n9C"
      },
      "execution_count": null,
      "outputs": []
    },
    {
      "cell_type": "code",
      "source": [
        "imputer.fit(df_pyspark1).transform(df_pyspark1).show()"
      ],
      "metadata": {
        "colab": {
          "base_uri": "https://localhost:8080/"
        },
        "id": "2EqeaXgdJyz9",
        "outputId": "60fcc750-84ac-4fd5-e293-ee6bf5685556"
      },
      "execution_count": null,
      "outputs": [
        {
          "output_type": "stream",
          "name": "stdout",
          "text": [
            "+----+----+----------+------+-------+--------------+----------+\n",
            "|Name| Age|Experience|Salary|Age_imp|Experience_imp|Salary_imp|\n",
            "+----+----+----------+------+-------+--------------+----------+\n",
            "|   A|  22|         1|  1000|     22|             1|      1000|\n",
            "|   B|  23|         3|  1200|     23|             3|      1200|\n",
            "|   C|  24|         2|  1300|     24|             2|      1300|\n",
            "|   D|  25|         1|  1100|     25|             1|      1100|\n",
            "|   E|null|      null|  1200|     26|             2|      1200|\n",
            "|null|  30|         4|  1300|     30|             4|      1300|\n",
            "|null|  31|      null|  1200|     31|             2|      1200|\n",
            "|null|  33|      null|  null|     33|             2|      1185|\n",
            "+----+----+----------+------+-------+--------------+----------+\n",
            "\n"
          ]
        }
      ]
    },
    {
      "cell_type": "code",
      "source": [
        "df_pyspark1 = df_pyspark1.na.drop(how = 'any')"
      ],
      "metadata": {
        "id": "Z8sdXT2OKAaT"
      },
      "execution_count": null,
      "outputs": []
    },
    {
      "cell_type": "code",
      "source": [
        "df_pyspark1.show()"
      ],
      "metadata": {
        "colab": {
          "base_uri": "https://localhost:8080/"
        },
        "id": "1bhcOQ74MfE6",
        "outputId": "c5a0a063-c426-4b4c-8f42-9f3d3f1c076c"
      },
      "execution_count": null,
      "outputs": [
        {
          "output_type": "stream",
          "name": "stdout",
          "text": [
            "+----+---+----------+------+\n",
            "|Name|Age|Experience|Salary|\n",
            "+----+---+----------+------+\n",
            "|   A| 22|         1|  1000|\n",
            "|   B| 23|         3|  1200|\n",
            "|   C| 24|         2|  1300|\n",
            "|   D| 25|         1|  1100|\n",
            "+----+---+----------+------+\n",
            "\n"
          ]
        }
      ]
    },
    {
      "cell_type": "code",
      "source": [
        "df_pyspark1.filter(\"Salary<=1200\").show()"
      ],
      "metadata": {
        "colab": {
          "base_uri": "https://localhost:8080/"
        },
        "id": "Fxji1KuHMgng",
        "outputId": "18740c78-81d1-43ed-872d-6e3e6c8f1dff"
      },
      "execution_count": null,
      "outputs": [
        {
          "output_type": "stream",
          "name": "stdout",
          "text": [
            "+----+---+----------+------+\n",
            "|Name|Age|Experience|Salary|\n",
            "+----+---+----------+------+\n",
            "|   A| 22|         1|  1000|\n",
            "|   B| 23|         3|  1200|\n",
            "|   D| 25|         1|  1100|\n",
            "+----+---+----------+------+\n",
            "\n"
          ]
        }
      ]
    },
    {
      "cell_type": "code",
      "source": [
        "df_pyspark1.filter(\"Salary<=1200\").select(['Name','Age']).show()"
      ],
      "metadata": {
        "colab": {
          "base_uri": "https://localhost:8080/"
        },
        "id": "FMstyFpROy1I",
        "outputId": "fde38769-a6f3-4b4a-8cf8-09417acafa5b"
      },
      "execution_count": null,
      "outputs": [
        {
          "output_type": "stream",
          "name": "stdout",
          "text": [
            "+----+---+\n",
            "|Name|Age|\n",
            "+----+---+\n",
            "|   A| 22|\n",
            "|   B| 23|\n",
            "|   D| 25|\n",
            "+----+---+\n",
            "\n"
          ]
        }
      ]
    },
    {
      "cell_type": "code",
      "source": [
        "df_pyspark1.filter( (df_pyspark1['Salary'] < 1200) & (df_pyspark1['Salary'] > 1000) ).show()"
      ],
      "metadata": {
        "colab": {
          "base_uri": "https://localhost:8080/"
        },
        "id": "--2OaUxaPC3i",
        "outputId": "17a92bac-3f3b-41fa-8d88-2b694f62b230"
      },
      "execution_count": null,
      "outputs": [
        {
          "output_type": "stream",
          "name": "stdout",
          "text": [
            "+----+---+----------+------+\n",
            "|Name|Age|Experience|Salary|\n",
            "+----+---+----------+------+\n",
            "|   D| 25|         1|  1100|\n",
            "+----+---+----------+------+\n",
            "\n"
          ]
        }
      ]
    },
    {
      "cell_type": "code",
      "source": [
        "df_pyspark1.filter(~(df_pyspark1['Salary'] < 1200)).show()"
      ],
      "metadata": {
        "colab": {
          "base_uri": "https://localhost:8080/"
        },
        "id": "fMtTeYGyPkSW",
        "outputId": "724ee5ba-811d-4d88-dacb-028b95880f89"
      },
      "execution_count": null,
      "outputs": [
        {
          "output_type": "stream",
          "name": "stdout",
          "text": [
            "+----+---+----------+------+\n",
            "|Name|Age|Experience|Salary|\n",
            "+----+---+----------+------+\n",
            "|   B| 23|         3|  1200|\n",
            "|   C| 24|         2|  1300|\n",
            "+----+---+----------+------+\n",
            "\n"
          ]
        }
      ]
    },
    {
      "cell_type": "code",
      "source": [
        "df_pyspark2 = spark.read.csv('gdrive/MyDrive/Colab_Notebooks/Spark/Book_Sample_3.csv', header = True, inferSchema = True)"
      ],
      "metadata": {
        "id": "nLjD_p4oQ25H"
      },
      "execution_count": null,
      "outputs": []
    },
    {
      "cell_type": "code",
      "source": [
        "df_pyspark2.show()"
      ],
      "metadata": {
        "colab": {
          "base_uri": "https://localhost:8080/"
        },
        "id": "b7MMoKylSsr3",
        "outputId": "a2ef8d9f-c8f5-473d-9ef4-f4d7b9ca2a11"
      },
      "execution_count": null,
      "outputs": [
        {
          "output_type": "stream",
          "name": "stdout",
          "text": [
            "+----+----+------+\n",
            "|Name|Dept|Salary|\n",
            "+----+----+------+\n",
            "|   A|  DS|  1000|\n",
            "|   A| IOT|  1200|\n",
            "|   A|  BD|  1100|\n",
            "|   B| IOT|  1100|\n",
            "|   B|  DS|  1300|\n",
            "|   B|  BD|  1500|\n",
            "|   C| IOT|  1200|\n",
            "|   C|  BD|  1300|\n",
            "|   E|  DS|  1400|\n",
            "+----+----+------+\n",
            "\n"
          ]
        }
      ]
    },
    {
      "cell_type": "code",
      "source": [
        "df_pyspark2.groupBy('Name').sum('Salary').show()"
      ],
      "metadata": {
        "colab": {
          "base_uri": "https://localhost:8080/"
        },
        "id": "sXGzpBUySuk7",
        "outputId": "7eaf58b4-e2d0-4f72-98b4-b34e8338a1f0"
      },
      "execution_count": null,
      "outputs": [
        {
          "output_type": "stream",
          "name": "stdout",
          "text": [
            "+----+-----------+\n",
            "|Name|sum(Salary)|\n",
            "+----+-----------+\n",
            "|   E|       1400|\n",
            "|   B|       3900|\n",
            "|   C|       2500|\n",
            "|   A|       3300|\n",
            "+----+-----------+\n",
            "\n"
          ]
        }
      ]
    },
    {
      "cell_type": "code",
      "source": [
        "df_pyspark2.groupBy('Dept').max('Salary').show()"
      ],
      "metadata": {
        "colab": {
          "base_uri": "https://localhost:8080/"
        },
        "id": "hU4LThE_UgvO",
        "outputId": "22511e2d-5d64-41b6-b8af-232e1e68a65a"
      },
      "execution_count": null,
      "outputs": [
        {
          "output_type": "stream",
          "name": "stdout",
          "text": [
            "+----+-----------+\n",
            "|Dept|max(Salary)|\n",
            "+----+-----------+\n",
            "| IOT|       1200|\n",
            "|  BD|       1500|\n",
            "|  DS|       1400|\n",
            "+----+-----------+\n",
            "\n"
          ]
        }
      ]
    },
    {
      "cell_type": "code",
      "source": [
        "df_pyspark2.groupBy('Dept').count().show()"
      ],
      "metadata": {
        "colab": {
          "base_uri": "https://localhost:8080/"
        },
        "id": "BOjLZoVHU7ro",
        "outputId": "2f7eb913-5d3b-4775-e30d-6185b2e65f5c"
      },
      "execution_count": null,
      "outputs": [
        {
          "output_type": "stream",
          "name": "stdout",
          "text": [
            "+----+-----+\n",
            "|Dept|count|\n",
            "+----+-----+\n",
            "| IOT|    3|\n",
            "|  BD|    3|\n",
            "|  DS|    3|\n",
            "+----+-----+\n",
            "\n"
          ]
        }
      ]
    },
    {
      "cell_type": "code",
      "source": [
        "df_pyspark2.agg({'Salary':'sum'}).show()"
      ],
      "metadata": {
        "colab": {
          "base_uri": "https://localhost:8080/"
        },
        "id": "6KY4qhfRVO7m",
        "outputId": "7676476a-0dca-48d0-c488-63a0271d069b"
      },
      "execution_count": null,
      "outputs": [
        {
          "output_type": "stream",
          "name": "stdout",
          "text": [
            "+-----------+\n",
            "|sum(Salary)|\n",
            "+-----------+\n",
            "|      11100|\n",
            "+-----------+\n",
            "\n"
          ]
        }
      ]
    },
    {
      "cell_type": "code",
      "source": [
        "df_pyspark1.show()"
      ],
      "metadata": {
        "colab": {
          "base_uri": "https://localhost:8080/"
        },
        "id": "WtcQWt0pWTgg",
        "outputId": "6502c285-766c-417c-bab4-f9e2f04bf3c4"
      },
      "execution_count": null,
      "outputs": [
        {
          "output_type": "stream",
          "name": "stdout",
          "text": [
            "+----+---+----------+------+\n",
            "|Name|Age|Experience|Salary|\n",
            "+----+---+----------+------+\n",
            "|   A| 22|         1|  1000|\n",
            "|   B| 23|         3|  1200|\n",
            "|   C| 24|         2|  1300|\n",
            "|   D| 25|         1|  1100|\n",
            "+----+---+----------+------+\n",
            "\n"
          ]
        }
      ]
    },
    {
      "cell_type": "code",
      "source": [
        "df_pyspark1.printSchema()"
      ],
      "metadata": {
        "colab": {
          "base_uri": "https://localhost:8080/"
        },
        "id": "-Afkf6AZZy-2",
        "outputId": "c38ed5a0-ec9b-4449-b0a6-f3f13e469bba"
      },
      "execution_count": null,
      "outputs": [
        {
          "output_type": "stream",
          "name": "stdout",
          "text": [
            "root\n",
            " |-- Name: string (nullable = true)\n",
            " |-- Age: integer (nullable = true)\n",
            " |-- Experience: integer (nullable = true)\n",
            " |-- Salary: integer (nullable = true)\n",
            "\n"
          ]
        }
      ]
    },
    {
      "cell_type": "code",
      "source": [
        "from pyspark.ml.feature import VectorAssembler\n",
        "\n",
        "featureassembler = VectorAssembler(inputCols = ['Age', 'Experience'], outputCol = 'Independent_feature')"
      ],
      "metadata": {
        "id": "yBwVlVmBaQBe"
      },
      "execution_count": null,
      "outputs": []
    },
    {
      "cell_type": "code",
      "source": [
        "output = featureassembler.transform(df_pyspark1)"
      ],
      "metadata": {
        "id": "jrsRFgknbrkm"
      },
      "execution_count": null,
      "outputs": []
    },
    {
      "cell_type": "code",
      "source": [
        "output.show()"
      ],
      "metadata": {
        "colab": {
          "base_uri": "https://localhost:8080/"
        },
        "id": "ICk09hGab1CN",
        "outputId": "4a1664cc-fef3-4373-baed-46a03f51c301"
      },
      "execution_count": null,
      "outputs": [
        {
          "output_type": "stream",
          "name": "stdout",
          "text": [
            "+----+---+----------+------+-------------------+\n",
            "|Name|Age|Experience|Salary|Independent_feature|\n",
            "+----+---+----------+------+-------------------+\n",
            "|   A| 22|         1|  1000|         [22.0,1.0]|\n",
            "|   B| 23|         3|  1200|         [23.0,3.0]|\n",
            "|   C| 24|         2|  1300|         [24.0,2.0]|\n",
            "|   D| 25|         1|  1100|         [25.0,1.0]|\n",
            "+----+---+----------+------+-------------------+\n",
            "\n"
          ]
        }
      ]
    },
    {
      "cell_type": "code",
      "source": [
        "final_data = output.select('Independent_feature', 'Salary')"
      ],
      "metadata": {
        "id": "RaT1fGPzb3cY"
      },
      "execution_count": null,
      "outputs": []
    },
    {
      "cell_type": "code",
      "source": [
        "final_data.show()"
      ],
      "metadata": {
        "colab": {
          "base_uri": "https://localhost:8080/"
        },
        "id": "xPhi-BPTcJSv",
        "outputId": "84f1ac34-4d70-49ab-f64a-8bcddea0e455"
      },
      "execution_count": null,
      "outputs": [
        {
          "output_type": "stream",
          "name": "stdout",
          "text": [
            "+-------------------+------+\n",
            "|Independent_feature|Salary|\n",
            "+-------------------+------+\n",
            "|         [22.0,1.0]|  1000|\n",
            "|         [23.0,3.0]|  1200|\n",
            "|         [24.0,2.0]|  1300|\n",
            "|         [25.0,1.0]|  1100|\n",
            "+-------------------+------+\n",
            "\n"
          ]
        }
      ]
    },
    {
      "cell_type": "code",
      "source": [
        "from pyspark.ml.regression import LinearRegression\n",
        "\n",
        "train_data, test_data = final_data.randomSplit([0.75, 0.25])\n",
        "\n",
        "regressor = LinearRegression(featuresCol = 'Independent_feature', labelCol = 'Salary')\n",
        "regressor = regressor.fit(train_data)"
      ],
      "metadata": {
        "id": "XPi8WFVdcLLN"
      },
      "execution_count": null,
      "outputs": []
    },
    {
      "cell_type": "code",
      "source": [
        "regressor.coefficients"
      ],
      "metadata": {
        "colab": {
          "base_uri": "https://localhost:8080/"
        },
        "id": "R09zxTU0ep6t",
        "outputId": "437918fb-174d-4119-fb5f-7a45ae0354f3"
      },
      "execution_count": null,
      "outputs": [
        {
          "output_type": "execute_result",
          "data": {
            "text/plain": [
              "DenseVector([-100.0, 100.0])"
            ]
          },
          "metadata": {},
          "execution_count": 93
        }
      ]
    },
    {
      "cell_type": "code",
      "source": [
        "regressor.intercept"
      ],
      "metadata": {
        "colab": {
          "base_uri": "https://localhost:8080/"
        },
        "id": "zHy9A42KeuKb",
        "outputId": "d8737bad-bfb8-4c4d-e04f-7ff5e3d4ba80"
      },
      "execution_count": null,
      "outputs": [
        {
          "output_type": "execute_result",
          "data": {
            "text/plain": [
              "3499.9999999991915"
            ]
          },
          "metadata": {},
          "execution_count": 94
        }
      ]
    },
    {
      "cell_type": "code",
      "source": [
        "prediction = regressor.evaluate(test_data)"
      ],
      "metadata": {
        "id": "xKpsOiMgewfF"
      },
      "execution_count": null,
      "outputs": []
    },
    {
      "cell_type": "code",
      "source": [
        "prediction.predictions.show()"
      ],
      "metadata": {
        "colab": {
          "base_uri": "https://localhost:8080/"
        },
        "id": "unn_h3_ce3AV",
        "outputId": "a2cc70c9-741b-44d3-a769-35958f987bdf"
      },
      "execution_count": null,
      "outputs": [
        {
          "output_type": "stream",
          "name": "stderr",
          "text": [
            "/usr/local/lib/python3.7/dist-packages/pyspark/sql/context.py:127: FutureWarning: Deprecated in 3.0.0. Use SparkSession.builder.getOrCreate() instead.\n",
            "  FutureWarning\n"
          ]
        },
        {
          "output_type": "stream",
          "name": "stdout",
          "text": [
            "+-------------------+------+------------------+\n",
            "|Independent_feature|Salary|        prediction|\n",
            "+-------------------+------+------------------+\n",
            "|         [22.0,1.0]|  1000|1399.9999999999168|\n",
            "|         [23.0,3.0]|  1200|1499.9999999999504|\n",
            "+-------------------+------+------------------+\n",
            "\n"
          ]
        }
      ]
    },
    {
      "cell_type": "code",
      "source": [
        "train_data.show()"
      ],
      "metadata": {
        "colab": {
          "base_uri": "https://localhost:8080/"
        },
        "id": "Xs3BSvQfe9S2",
        "outputId": "247673ef-bc42-48e5-fddb-dd1dc2a62ab1"
      },
      "execution_count": null,
      "outputs": [
        {
          "output_type": "stream",
          "name": "stdout",
          "text": [
            "+-------------------+------+\n",
            "|Independent_feature|Salary|\n",
            "+-------------------+------+\n",
            "|         [22.0,1.0]|  1000|\n",
            "|         [24.0,2.0]|  1300|\n",
            "+-------------------+------+\n",
            "\n"
          ]
        }
      ]
    },
    {
      "cell_type": "code",
      "source": [
        "test_data.show()"
      ],
      "metadata": {
        "colab": {
          "base_uri": "https://localhost:8080/"
        },
        "id": "sL4zZdNFfC1U",
        "outputId": "8bcd9618-dfa8-4193-e721-0b4d8c5ebf6b"
      },
      "execution_count": null,
      "outputs": [
        {
          "output_type": "stream",
          "name": "stdout",
          "text": [
            "+-------------------+------+\n",
            "|Independent_feature|Salary|\n",
            "+-------------------+------+\n",
            "|         [23.0,3.0]|  1200|\n",
            "|         [25.0,1.0]|  1100|\n",
            "+-------------------+------+\n",
            "\n"
          ]
        }
      ]
    },
    {
      "cell_type": "code",
      "source": [
        "prediction.meanAbsoluteError"
      ],
      "metadata": {
        "colab": {
          "base_uri": "https://localhost:8080/"
        },
        "id": "1KPZ9lnVfGC_",
        "outputId": "c96fc26a-77ee-42ad-c094-427d64acb161"
      },
      "execution_count": null,
      "outputs": [
        {
          "output_type": "execute_result",
          "data": {
            "text/plain": [
              "349.9999999999336"
            ]
          },
          "metadata": {},
          "execution_count": 97
        }
      ]
    },
    {
      "cell_type": "code",
      "source": [
        "prediction.meanSquaredError"
      ],
      "metadata": {
        "colab": {
          "base_uri": "https://localhost:8080/"
        },
        "id": "9nNfQENHfiiD",
        "outputId": "7421604c-8e21-44b4-c98b-d604e8efcd73"
      },
      "execution_count": null,
      "outputs": [
        {
          "output_type": "execute_result",
          "data": {
            "text/plain": [
              "124999.99999995185"
            ]
          },
          "metadata": {},
          "execution_count": 98
        }
      ]
    },
    {
      "cell_type": "code",
      "source": [
        ""
      ],
      "metadata": {
        "id": "J0lQzZTUQoMo"
      },
      "execution_count": null,
      "outputs": []
    }
  ]
}