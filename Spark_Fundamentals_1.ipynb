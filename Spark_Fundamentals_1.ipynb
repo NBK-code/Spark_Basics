{
  "nbformat": 4,
  "nbformat_minor": 0,
  "metadata": {
    "colab": {
      "name": "Spark_Fundamentals_1.ipynb",
      "provenance": [],
      "authorship_tag": "ABX9TyM4ub0RKuo0Da8T/WYyGHAb",
      "include_colab_link": true
    },
    "kernelspec": {
      "name": "python3",
      "display_name": "Python 3"
    },
    "language_info": {
      "name": "python"
    }
  },
  "cells": [
    {
      "cell_type": "markdown",
      "metadata": {
        "id": "view-in-github",
        "colab_type": "text"
      },
      "source": [
        "<a href=\"https://colab.research.google.com/github/NBK-code/Spark_Basics/blob/main/Spark_Fundamentals_1.ipynb\" target=\"_parent\"><img src=\"https://colab.research.google.com/assets/colab-badge.svg\" alt=\"Open In Colab\"/></a>"
      ]
    },
    {
      "cell_type": "code",
      "source": [
        "!pip install pyspark"
      ],
      "metadata": {
        "colab": {
          "base_uri": "https://localhost:8080/"
        },
        "id": "ZbJ9UCiYzexS",
        "outputId": "1cccd9fb-577f-4f8c-b971-82a310a170d1"
      },
      "execution_count": 2,
      "outputs": [
        {
          "output_type": "stream",
          "name": "stdout",
          "text": [
            "Collecting pyspark\n",
            "  Downloading pyspark-3.2.1.tar.gz (281.4 MB)\n",
            "\u001b[K     |████████████████████████████████| 281.4 MB 34 kB/s \n",
            "\u001b[?25hCollecting py4j==0.10.9.3\n",
            "  Downloading py4j-0.10.9.3-py2.py3-none-any.whl (198 kB)\n",
            "\u001b[K     |████████████████████████████████| 198 kB 47.5 MB/s \n",
            "\u001b[?25hBuilding wheels for collected packages: pyspark\n",
            "  Building wheel for pyspark (setup.py) ... \u001b[?25l\u001b[?25hdone\n",
            "  Created wheel for pyspark: filename=pyspark-3.2.1-py2.py3-none-any.whl size=281853642 sha256=16eb8a6ee8e6b8327f766129237b5a599e2f2eb862e4b29097513a95b943d3bb\n",
            "  Stored in directory: /root/.cache/pip/wheels/9f/f5/07/7cd8017084dce4e93e84e92efd1e1d5334db05f2e83bcef74f\n",
            "Successfully built pyspark\n",
            "Installing collected packages: py4j, pyspark\n",
            "Successfully installed py4j-0.10.9.3 pyspark-3.2.1\n"
          ]
        }
      ]
    },
    {
      "cell_type": "code",
      "source": [
        "import pyspark"
      ],
      "metadata": {
        "id": "IwxCs66vzAYB"
      },
      "execution_count": 3,
      "outputs": []
    },
    {
      "cell_type": "code",
      "source": [
        "from pyspark import SparkConf \n",
        "from pyspark.context import SparkContext \n",
        "\n",
        "sc = SparkContext.getOrCreate(SparkConf().setMaster(\"local[*]\"))"
      ],
      "metadata": {
        "id": "pfCfpNC0z4iW"
      },
      "execution_count": 4,
      "outputs": []
    },
    {
      "cell_type": "code",
      "source": [
        "sc"
      ],
      "metadata": {
        "colab": {
          "base_uri": "https://localhost:8080/",
          "height": 196
        },
        "id": "WjYnkvCH0ajw",
        "outputId": "ad271a10-0537-4e75-ac31-84d74149c809"
      },
      "execution_count": 5,
      "outputs": [
        {
          "output_type": "execute_result",
          "data": {
            "text/plain": [
              "<SparkContext master=local[*] appName=pyspark-shell>"
            ],
            "text/html": [
              "\n",
              "        <div>\n",
              "            <p><b>SparkContext</b></p>\n",
              "\n",
              "            <p><a href=\"http://567e90f950cc:4040\">Spark UI</a></p>\n",
              "\n",
              "            <dl>\n",
              "              <dt>Version</dt>\n",
              "                <dd><code>v3.2.1</code></dd>\n",
              "              <dt>Master</dt>\n",
              "                <dd><code>local[*]</code></dd>\n",
              "              <dt>AppName</dt>\n",
              "                <dd><code>pyspark-shell</code></dd>\n",
              "            </dl>\n",
              "        </div>\n",
              "        "
            ]
          },
          "metadata": {},
          "execution_count": 5
        }
      ]
    },
    {
      "cell_type": "code",
      "source": [
        "nums = list(range(0, 1000001))"
      ],
      "metadata": {
        "id": "5q-jhmY70rvA"
      },
      "execution_count": 7,
      "outputs": []
    },
    {
      "cell_type": "code",
      "source": [
        "nums_rdd = sc.parallelize(nums)\n",
        "nums_rdd"
      ],
      "metadata": {
        "colab": {
          "base_uri": "https://localhost:8080/"
        },
        "id": "erA-TeS06Ozo",
        "outputId": "cc2c4163-7337-4d41-b1e8-26b8aed20acd"
      },
      "execution_count": 8,
      "outputs": [
        {
          "output_type": "execute_result",
          "data": {
            "text/plain": [
              "ParallelCollectionRDD[1] at readRDDFromFile at PythonRDD.scala:274"
            ]
          },
          "metadata": {},
          "execution_count": 8
        }
      ]
    },
    {
      "cell_type": "code",
      "source": [
        "nums_rdd.take(5)"
      ],
      "metadata": {
        "colab": {
          "base_uri": "https://localhost:8080/"
        },
        "id": "5GL_XtO76frH",
        "outputId": "cc18c964-e4d1-42a5-c260-d37bbc46f006"
      },
      "execution_count": 9,
      "outputs": [
        {
          "output_type": "execute_result",
          "data": {
            "text/plain": [
              "[0, 1, 2, 3, 4]"
            ]
          },
          "metadata": {},
          "execution_count": 9
        }
      ]
    },
    {
      "cell_type": "code",
      "source": [
        "squared_nums_rdd = nums_rdd.map(lambda x : x**2)\n",
        "squared_nums_rdd.take(5)"
      ],
      "metadata": {
        "colab": {
          "base_uri": "https://localhost:8080/"
        },
        "id": "EV0VOdZF8C-u",
        "outputId": "9bb28980-8254-465c-c23e-b184d0673a3e"
      },
      "execution_count": 10,
      "outputs": [
        {
          "output_type": "execute_result",
          "data": {
            "text/plain": [
              "[0, 1, 4, 9, 16]"
            ]
          },
          "metadata": {},
          "execution_count": 10
        }
      ]
    },
    {
      "cell_type": "code",
      "source": [
        "len(str(643985))"
      ],
      "metadata": {
        "colab": {
          "base_uri": "https://localhost:8080/"
        },
        "id": "Adrlt8HD9O2w",
        "outputId": "032b44f1-edcb-471b-d558-16631ae07575"
      },
      "execution_count": 11,
      "outputs": [
        {
          "output_type": "execute_result",
          "data": {
            "text/plain": [
              "6"
            ]
          },
          "metadata": {},
          "execution_count": 11
        }
      ]
    },
    {
      "cell_type": "code",
      "source": [
        "pairs_rdd = squared_nums_rdd.map(lambda x : (x, (len(str(x)))))\n",
        "pairs_rdd.take(5) "
      ],
      "metadata": {
        "colab": {
          "base_uri": "https://localhost:8080/"
        },
        "id": "tnA1MLpN-Htn",
        "outputId": "3312d634-f9a1-4a12-ec5b-edfe3dadc712"
      },
      "execution_count": 15,
      "outputs": [
        {
          "output_type": "execute_result",
          "data": {
            "text/plain": [
              "[(0, 1), (1, 1), (4, 1), (9, 1), (16, 2)]"
            ]
          },
          "metadata": {},
          "execution_count": 15
        }
      ]
    },
    {
      "cell_type": "code",
      "source": [
        "even_digit_pairs_rdd = pairs_rdd.filter(lambda x : (x[1]%2 == 0))\n",
        "even_digit_pairs_rdd.take(10)"
      ],
      "metadata": {
        "colab": {
          "base_uri": "https://localhost:8080/"
        },
        "id": "qQxUc0fT-5CH",
        "outputId": "323711c6-4c2e-4780-fff5-8899551c74d5"
      },
      "execution_count": 16,
      "outputs": [
        {
          "output_type": "execute_result",
          "data": {
            "text/plain": [
              "[(16, 2),\n",
              " (25, 2),\n",
              " (36, 2),\n",
              " (49, 2),\n",
              " (64, 2),\n",
              " (81, 2),\n",
              " (1024, 4),\n",
              " (1089, 4),\n",
              " (1156, 4),\n",
              " (1225, 4)]"
            ]
          },
          "metadata": {},
          "execution_count": 16
        }
      ]
    },
    {
      "cell_type": "code",
      "source": [
        "flipped_pairs_rdd = even_digit_pairs_rdd.map(lambda x: (x[1], x[0]))\n",
        "flipped_pairs_rdd.take(10)"
      ],
      "metadata": {
        "colab": {
          "base_uri": "https://localhost:8080/"
        },
        "id": "qtMoRdhGAEuF",
        "outputId": "9ed47906-0583-4694-9c5d-4c5e33ddc614"
      },
      "execution_count": 17,
      "outputs": [
        {
          "output_type": "execute_result",
          "data": {
            "text/plain": [
              "[(2, 16),\n",
              " (2, 25),\n",
              " (2, 36),\n",
              " (2, 49),\n",
              " (2, 64),\n",
              " (2, 81),\n",
              " (4, 1024),\n",
              " (4, 1089),\n",
              " (4, 1156),\n",
              " (4, 1225)]"
            ]
          },
          "metadata": {},
          "execution_count": 17
        }
      ]
    },
    {
      "cell_type": "code",
      "source": [
        "grouped_rdd = flipped_pairs_rdd.groupByKey()\n",
        "grouped_rdd.take(10)"
      ],
      "metadata": {
        "colab": {
          "base_uri": "https://localhost:8080/"
        },
        "id": "oBTDG4PyAqjm",
        "outputId": "f75a7387-4ad7-4868-90a7-1c0964a245b7"
      },
      "execution_count": 18,
      "outputs": [
        {
          "output_type": "execute_result",
          "data": {
            "text/plain": [
              "[(2, <pyspark.resultiterable.ResultIterable at 0x7fb6f5fd7810>),\n",
              " (4, <pyspark.resultiterable.ResultIterable at 0x7fb6e92afb50>),\n",
              " (6, <pyspark.resultiterable.ResultIterable at 0x7fb6e92a8510>),\n",
              " (8, <pyspark.resultiterable.ResultIterable at 0x7fb6e94c0090>),\n",
              " (10, <pyspark.resultiterable.ResultIterable at 0x7fb6e92a8ad0>),\n",
              " (12, <pyspark.resultiterable.ResultIterable at 0x7fb6e92a8bd0>)]"
            ]
          },
          "metadata": {},
          "execution_count": 18
        }
      ]
    },
    {
      "cell_type": "code",
      "source": [
        "grouped_rdd = grouped_rdd.map(lambda x : (x[0], list(x[1])))\n",
        "grouped_rdd.take(2)"
      ],
      "metadata": {
        "colab": {
          "base_uri": "https://localhost:8080/"
        },
        "id": "dLrZo9l0A4Gl",
        "outputId": "82faa3f1-e1d0-45d1-c2a6-c27ea9e516bc"
      },
      "execution_count": 19,
      "outputs": [
        {
          "output_type": "execute_result",
          "data": {
            "text/plain": [
              "[(2, [16, 25, 36, 49, 64, 81]),\n",
              " (4,\n",
              "  [1024,\n",
              "   1089,\n",
              "   1156,\n",
              "   1225,\n",
              "   1296,\n",
              "   1369,\n",
              "   1444,\n",
              "   1521,\n",
              "   1600,\n",
              "   1681,\n",
              "   1764,\n",
              "   1849,\n",
              "   1936,\n",
              "   2025,\n",
              "   2116,\n",
              "   2209,\n",
              "   2304,\n",
              "   2401,\n",
              "   2500,\n",
              "   2601,\n",
              "   2704,\n",
              "   2809,\n",
              "   2916,\n",
              "   3025,\n",
              "   3136,\n",
              "   3249,\n",
              "   3364,\n",
              "   3481,\n",
              "   3600,\n",
              "   3721,\n",
              "   3844,\n",
              "   3969,\n",
              "   4096,\n",
              "   4225,\n",
              "   4356,\n",
              "   4489,\n",
              "   4624,\n",
              "   4761,\n",
              "   4900,\n",
              "   5041,\n",
              "   5184,\n",
              "   5329,\n",
              "   5476,\n",
              "   5625,\n",
              "   5776,\n",
              "   5929,\n",
              "   6084,\n",
              "   6241,\n",
              "   6400,\n",
              "   6561,\n",
              "   6724,\n",
              "   6889,\n",
              "   7056,\n",
              "   7225,\n",
              "   7396,\n",
              "   7569,\n",
              "   7744,\n",
              "   7921,\n",
              "   8100,\n",
              "   8281,\n",
              "   8464,\n",
              "   8649,\n",
              "   8836,\n",
              "   9025,\n",
              "   9216,\n",
              "   9409,\n",
              "   9604,\n",
              "   9801])]"
            ]
          },
          "metadata": {},
          "execution_count": 19
        }
      ]
    },
    {
      "cell_type": "code",
      "source": [
        "averaged = grouped_rdd.map(lambda x : (x[0], sum(x[1])/len(x[1])))\n",
        "averaged.collect()"
      ],
      "metadata": {
        "colab": {
          "base_uri": "https://localhost:8080/"
        },
        "id": "yMaTAdKqBPbK",
        "outputId": "808d7566-2773-4490-d534-887ce2047198"
      },
      "execution_count": 20,
      "outputs": [
        {
          "output_type": "execute_result",
          "data": {
            "text/plain": [
              "[(2, 45.166666666666664),\n",
              " (4, 4675.5),\n",
              " (6, 471838.0),\n",
              " (8, 47204941.666666664),\n",
              " (10, 4720705565.0),\n",
              " (12, 472075391214.1667)]"
            ]
          },
          "metadata": {},
          "execution_count": 20
        }
      ]
    },
    {
      "cell_type": "code",
      "source": [
        ""
      ],
      "metadata": {
        "id": "zvBv6xfRBsdx"
      },
      "execution_count": null,
      "outputs": []
    }
  ]
}